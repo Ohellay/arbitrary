{
  "cells": [
    {
      "cell_type": "markdown",
      "metadata": {
        "id": "view-in-github",
        "colab_type": "text"
      },
      "source": [
        "<a href=\"https://colab.research.google.com/github/Ohellay/arbitrary/blob/main/Matrix_product_implementation.ipynb\" target=\"_parent\"><img src=\"https://colab.research.google.com/assets/colab-badge.svg\" alt=\"Open In Colab\"/></a>"
      ]
    },
    {
      "cell_type": "markdown",
      "metadata": {
        "id": "9QKk2Ni6f56K"
      },
      "source": [
        "[Problem 1] Matrix product is calculated manually"
      ]
    },
    {
      "cell_type": "markdown",
      "metadata": {
        "id": "M-WrEkJRa1ku"
      },
      "source": [
        "The matrix product  calculated by hand is given by the image below  "
      ]
    },
    {
      "cell_type": "markdown",
      "metadata": {
        "id": "ev2mqWQZnGFX"
      },
      "source": [
        "(\\begin{matrix}\n",
        "-1 & 2 & 3 \\\\\n",
        "4 & -5 & 6 \\\\\n",
        "7 & 8 & -9\n",
        "\\end{matrix})\n",
        "\n",
        "  X\n",
        "\n",
        "(\\begin{matrix}\n",
        "0 & 2 & 1 \\\\\n",
        "0 & 2 & -8 \\\\\n",
        "2 & 9 & -1\n",
        "\\end{matrix})\n",
        "\n",
        "=\n",
        "\n",
        "(\\begin{matrix}\n",
        "-1*0+2*0+3*2 & -1*2+2*2+3*9 & -1*1+2*\\left(-8\\right)+3*\\left(-1\\right) \\\\\n",
        "4*0+\\left(-5\\right)*0+6*2 & 4*2+\\left(-5\\right)*2+6*9 & 4*1+\\left(-5\\right)*\\left(-8\\right)+6*\\left(-1\\right) \\\\\n",
        "7*0+8*0+\\left(-9\\right)*2 & 7*2+8*2+\\left(-9\\right)*9 & 7*1+8*\\left(-8\\right)+\\left(-9\\right)*\\left(-1\\right)\n",
        "\\end{matrix})\n",
        "\n",
        "\n",
        "=\n",
        "\n",
        "(\\begin{matrix}\n",
        "6 & 29 & -20 \\\\\n",
        "12 & 52 & 38 \\\\\n",
        "-18 & -51 & -48\n",
        "\\end{matrix})"
      ]
    },
    {
      "cell_type": "markdown",
      "metadata": {
        "id": "-qu0VHhfgM95"
      },
      "source": [
        "[Problem 2] Calculation by NumPy function"
      ]
    },
    {
      "cell_type": "markdown",
      "metadata": {
        "id": "-bfA5rNQojec"
      },
      "source": [
        "Using Np.matmul"
      ]
    },
    {
      "cell_type": "code",
      "execution_count": null,
      "metadata": {
        "colab": {
          "background_save": true,
          "base_uri": "https://localhost:8080/"
        },
        "id": "FuQDzMENmWhI",
        "outputId": "6eced577-2d9b-451f-ad90-d2726d32126c"
      },
      "outputs": [
        {
          "name": "stdout",
          "output_type": "stream",
          "text": [
            "[[  6  29 -20]\n",
            " [ 12  52  38]\n",
            " [-18 -51 -48]]\n"
          ]
        }
      ],
      "source": [
        "import numpy as np\n",
        "a_ndarray = np.array([[-1, 2, 3], [4, -5, 6], [7, 8, -9]])\n",
        "b_ndarray = np.array([[0, 2, 1], [0, 2, -8], [2, 9, -1]])\n",
        "\n",
        "AXB = np.matmul(a_ndarray ,b_ndarray )\n",
        "print (AXB)"
      ]
    },
    {
      "cell_type": "markdown",
      "metadata": {
        "id": "heeH52mZorkq"
      },
      "source": [
        "Using Np.dot"
      ]
    },
    {
      "cell_type": "code",
      "execution_count": null,
      "metadata": {
        "colab": {
          "background_save": true,
          "base_uri": "https://localhost:8080/"
        },
        "id": "6JPn0UcGnnl7",
        "outputId": "07ff5cc8-cd27-4aa9-efb7-1f4edb9b1eb0"
      },
      "outputs": [
        {
          "name": "stdout",
          "output_type": "stream",
          "text": [
            "[[  6  29 -20]\n",
            " [ 12  52  38]\n",
            " [-18 -51 -48]]\n"
          ]
        }
      ],
      "source": [
        "import numpy as np\n",
        "a_ndarray = np.array([[-1, 2, 3], [4, -5, 6], [7, 8, -9]])\n",
        "b_ndarray = np.array([[0, 2, 1], [0, 2, -8], [2, 9, -1]])\n",
        "AXB = np.dot(a_ndarray, b_ndarray)\n",
        "print(AXB)"
      ]
    },
    {
      "cell_type": "markdown",
      "metadata": {
        "id": "UFO_31N9pPvo"
      },
      "source": [
        "Using @ operator"
      ]
    },
    {
      "cell_type": "code",
      "execution_count": null,
      "metadata": {
        "colab": {
          "background_save": true,
          "base_uri": "https://localhost:8080/"
        },
        "id": "wa0a3xmfqKCW",
        "outputId": "19915ea4-a1c8-4600-9e12-6c4a6b24137e"
      },
      "outputs": [
        {
          "name": "stdout",
          "output_type": "stream",
          "text": [
            "[[  6  29 -20]\n",
            " [ 12  52  38]\n",
            " [-18 -51 -48]]\n"
          ]
        }
      ],
      "source": [
        "AXB = a_ndarray @ b_ndarray\n",
        "print(AXB)"
      ]
    },
    {
      "cell_type": "markdown",
      "metadata": {
        "id": "08xSiRScZ7Di"
      },
      "source": [
        "\n",
        "[Problem 3] Implementation of calculation of a certain element\n",
        "When doing the calculations by hand, you may have first paid attention to row 0 of matrix A and column 0 of matrix B, and then performed the following calculations.\n",
        "\n",
        "\n",
        "\n",
        "> Multiply the (0,0) element $a_{0, 0}$ of matrix A with the (0,0) element $b_{0, 0}$ of matrix B\n",
        "\n",
        "\n",
        "\n",
        "\n",
        "> Multiply the (0,1) element $a_{0, 1}$ of matrix A with the (1,0) element $b_{1, 0}$ of matrix B\n",
        "\n",
        "> Multiply the (0,2) element $a_{0, 2}$ of matrix A with the (2,0) element $b_{2, 0}$ of matrix B\n",
        "\n",
        ">Add all those values together\n",
        "\n",
        "\n",
        "\n",
        "\n",
        "\n",
        "\n",
        "\n"
      ]
    },
    {
      "cell_type": "code",
      "execution_count": null,
      "metadata": {
        "colab": {
          "background_save": true,
          "base_uri": "https://localhost:8080/"
        },
        "id": "ZefWPYfwaCgg",
        "outputId": "b29f7ef0-8de3-4b63-c6ae-4891593ae3e8"
      },
      "outputs": [
        {
          "name": "stdout",
          "output_type": "stream",
          "text": [
            "Result (0, 0): 6\n"
          ]
        }
      ],
      "source": [
        "import numpy as np\n",
        "\n",
        "# Given matrices A and B\n",
        "a_ndarray = np.array([[-1, 2, 3], [4, -5, 6], [7, 8, -9]])\n",
        "b_ndarray = np.array([[0, 2, 1], [0, 2, -8], [2, 9, -1]])\n",
        "\n",
        "# To  implement the calculation of the (0, 0)\n",
        "A0XB0 = a_ndarray[0, 0] * b_ndarray[0, 0]\n",
        "A0XB1 = a_ndarray[0, 1] * b_ndarray[1, 0]\n",
        "A0XB2 = a_ndarray[0, 2] * b_ndarray[2, 0]\n",
        "\n",
        "#The SUM\n",
        "SUM = A0XB0 + A0XB1 + A0XB2\n",
        "\n",
        "\n",
        "\n",
        "# Print the result\n",
        "print(f\"Result (0, 0): {SUM}\")\n"
      ]
    },
    {
      "cell_type": "markdown",
      "metadata": {
        "id": "jZ-eASSla2i7"
      },
      "source": [
        "[Problem 4] Creating a function that performs matrix multiplication"
      ]
    },
    {
      "cell_type": "code",
      "execution_count": 56,
      "metadata": {
        "colab": {
          "base_uri": "https://localhost:8080/"
        },
        "id": "INIZm_-grJjC",
        "outputId": "78be137d-24c7-4bdc-f04f-f1ad2854faf9"
      },
      "outputs": [
        {
          "output_type": "stream",
          "name": "stdout",
          "text": [
            "Matrix A:: \n",
            "[[-1  2  3]\n",
            " [ 4 -5  6]\n",
            " [ 7  8 -9]]\n",
            "\n",
            "Matrix B:\n",
            "[[ 0  2  1]\n",
            " [ 0  2 -8]\n",
            " [ 2  9 -1]]\n",
            "\n",
            "Matrix multiplication result:\n",
            "[[  6  29 -20]\n",
            " [ 12  52  38]\n",
            " [-18 -51 -48]]\n"
          ]
        }
      ],
      "source": [
        "import numpy as np\n",
        "\n",
        "a_ndarray = np.array([[-1, 2, 3], [4, -5, 6], [7, 8, -9]])\n",
        "b_ndarray = np.array([[0, 2, 1], [0, 2, -8], [2, 9, -1]])\n",
        "\n",
        "def multiply_matrix(a, b):\n",
        "    # To Get the dimensions of the matrices\n",
        "    rows_A, cols_A = a.shape\n",
        "    rows_B, cols_B = b.shape\n",
        "\n",
        "      # The empty matrix to store the result\n",
        "    result = np.zeros((rows_A, cols_B), dtype=int)\n",
        "\n",
        "    #The  matrix multiplication is given by\n",
        "    for a_row in range(rows_A):\n",
        "        for b_col in range(cols_B):\n",
        "            result[a_row, b_col] = sum(a[a_row, :] * b[:, b_col])\n",
        "\n",
        "    return result\n",
        "\n",
        "result = multiply_matrix(a_ndarray, b_ndarray)\n",
        "\n",
        "print(\"Matrix A:: \")\n",
        "print(a_ndarray)\n",
        "print(\"\\nMatrix B:\")\n",
        "print(b_ndarray)\n",
        "print(\"\\nMatrix multiplication result:\")\n",
        "print(result)"
      ]
    },
    {
      "cell_type": "markdown",
      "metadata": {
        "id": "LjlnzFjL895s"
      },
      "source": [
        "The matrix product DE is defined when the number of columns of D is equal to the number of rows of E, so it cannot be calculated in this example. The code below proofs thee above statement:"
      ]
    },
    {
      "cell_type": "code",
      "execution_count": 57,
      "metadata": {
        "colab": {
          "base_uri": "https://localhost:8080/",
          "height": 366
        },
        "id": "9uJO6_wn8_YJ",
        "outputId": "5e36658a-c619-4da3-9e4c-c77b749497e7"
      },
      "outputs": [
        {
          "output_type": "error",
          "ename": "ValueError",
          "evalue": "ignored",
          "traceback": [
            "\u001b[0;31m---------------------------------------------------------------------------\u001b[0m",
            "\u001b[0;31mValueError\u001b[0m                                Traceback (most recent call last)",
            "\u001b[0;32m<ipython-input-57-a7741bc55b4f>\u001b[0m in \u001b[0;36m<cell line: 6>\u001b[0;34m()\u001b[0m\n\u001b[1;32m      4\u001b[0m \u001b[0me_ndarray\u001b[0m \u001b[0;34m=\u001b[0m \u001b[0mnp\u001b[0m\u001b[0;34m.\u001b[0m\u001b[0marray\u001b[0m\u001b[0;34m(\u001b[0m\u001b[0;34m[\u001b[0m\u001b[0;34m[\u001b[0m\u001b[0;34m-\u001b[0m\u001b[0;36m9\u001b[0m\u001b[0;34m,\u001b[0m \u001b[0;36m8\u001b[0m\u001b[0;34m,\u001b[0m \u001b[0;36m7\u001b[0m\u001b[0;34m]\u001b[0m\u001b[0;34m,\u001b[0m \u001b[0;34m[\u001b[0m\u001b[0;36m6\u001b[0m\u001b[0;34m,\u001b[0m \u001b[0;34m-\u001b[0m\u001b[0;36m5\u001b[0m\u001b[0;34m,\u001b[0m \u001b[0;36m4\u001b[0m\u001b[0;34m]\u001b[0m\u001b[0;34m]\u001b[0m\u001b[0;34m)\u001b[0m\u001b[0;34m\u001b[0m\u001b[0;34m\u001b[0m\u001b[0m\n\u001b[1;32m      5\u001b[0m \u001b[0;34m\u001b[0m\u001b[0m\n\u001b[0;32m----> 6\u001b[0;31m \u001b[0mresult\u001b[0m \u001b[0;34m=\u001b[0m \u001b[0mmultiply_matrix\u001b[0m\u001b[0;34m(\u001b[0m\u001b[0md_ndarray\u001b[0m\u001b[0;34m,\u001b[0m \u001b[0me_ndarray\u001b[0m\u001b[0;34m)\u001b[0m\u001b[0;34m\u001b[0m\u001b[0;34m\u001b[0m\u001b[0m\n\u001b[0m\u001b[1;32m      7\u001b[0m \u001b[0;34m\u001b[0m\u001b[0m\n\u001b[1;32m      8\u001b[0m \u001b[0mprint\u001b[0m\u001b[0;34m(\u001b[0m\u001b[0;34m\"Matrix A:: \"\u001b[0m\u001b[0;34m)\u001b[0m\u001b[0;34m\u001b[0m\u001b[0;34m\u001b[0m\u001b[0m\n",
            "\u001b[0;32m<ipython-input-56-416fd218f0d6>\u001b[0m in \u001b[0;36mmultiply_matrix\u001b[0;34m(a, b)\u001b[0m\n\u001b[1;32m     15\u001b[0m     \u001b[0;32mfor\u001b[0m \u001b[0ma_row\u001b[0m \u001b[0;32min\u001b[0m \u001b[0mrange\u001b[0m\u001b[0;34m(\u001b[0m\u001b[0mrows_A\u001b[0m\u001b[0;34m)\u001b[0m\u001b[0;34m:\u001b[0m\u001b[0;34m\u001b[0m\u001b[0;34m\u001b[0m\u001b[0m\n\u001b[1;32m     16\u001b[0m         \u001b[0;32mfor\u001b[0m \u001b[0mb_col\u001b[0m \u001b[0;32min\u001b[0m \u001b[0mrange\u001b[0m\u001b[0;34m(\u001b[0m\u001b[0mcols_B\u001b[0m\u001b[0;34m)\u001b[0m\u001b[0;34m:\u001b[0m\u001b[0;34m\u001b[0m\u001b[0;34m\u001b[0m\u001b[0m\n\u001b[0;32m---> 17\u001b[0;31m             \u001b[0mresult\u001b[0m\u001b[0;34m[\u001b[0m\u001b[0ma_row\u001b[0m\u001b[0;34m,\u001b[0m \u001b[0mb_col\u001b[0m\u001b[0;34m]\u001b[0m \u001b[0;34m=\u001b[0m \u001b[0msum\u001b[0m\u001b[0;34m(\u001b[0m\u001b[0ma\u001b[0m\u001b[0;34m[\u001b[0m\u001b[0ma_row\u001b[0m\u001b[0;34m,\u001b[0m \u001b[0;34m:\u001b[0m\u001b[0;34m]\u001b[0m \u001b[0;34m*\u001b[0m \u001b[0mb\u001b[0m\u001b[0;34m[\u001b[0m\u001b[0;34m:\u001b[0m\u001b[0;34m,\u001b[0m \u001b[0mb_col\u001b[0m\u001b[0;34m]\u001b[0m\u001b[0;34m)\u001b[0m\u001b[0;34m\u001b[0m\u001b[0;34m\u001b[0m\u001b[0m\n\u001b[0m\u001b[1;32m     18\u001b[0m \u001b[0;34m\u001b[0m\u001b[0m\n\u001b[1;32m     19\u001b[0m     \u001b[0;32mreturn\u001b[0m \u001b[0mresult\u001b[0m\u001b[0;34m\u001b[0m\u001b[0;34m\u001b[0m\u001b[0m\n",
            "\u001b[0;31mValueError\u001b[0m: operands could not be broadcast together with shapes (3,) (2,) "
          ]
        }
      ],
      "source": [
        "import numpy as np\n",
        "\n",
        "d_ndarray = np.array([[-1, 2, 3], [4, -5, 6]])\n",
        "e_ndarray = np.array([[-9, 8, 7], [6, -5, 4]])\n",
        "\n",
        "result = multiply_matrix(d_ndarray, e_ndarray)\n",
        "\n",
        "print(\"Matrix A:: \")\n",
        "print(d_ndarray)\n",
        "print(\"\\nMatrix B:\")\n",
        "print(e_ndarray)\n",
        "print(\"\\nMatrix multiplication result:\")\n",
        "print(result)"
      ]
    },
    {
      "cell_type": "markdown",
      "metadata": {
        "id": "ROSLrmnvrDHZ"
      },
      "source": [
        "[Problem 5] Judge the input whose calculation is not defined"
      ]
    },
    {
      "cell_type": "code",
      "execution_count": 61,
      "metadata": {
        "colab": {
          "base_uri": "https://localhost:8080/"
        },
        "id": "nB_QHgcq604m",
        "outputId": "8ea87c2f-55f2-4044-88ac-a176fec943a1"
      },
      "outputs": [
        {
          "output_type": "stream",
          "name": "stdout",
          "text": [
            "The matrice does not have the same shape\n"
          ]
        }
      ],
      "source": [
        "import numpy as np\n",
        "\n",
        "d_ndarray = np.array([[-1, 2, 3], [4, -5, 6]])\n",
        "e_ndarray = np.array([[-9, 8, 7], [6, -5, 4]])\n",
        "\n",
        "if d_ndarray .shape[0] == e_ndarray .shape[1]:\n",
        "  print ('The result ::' ,multiply_matrix(d_ndarray,e_ndarray))\n",
        "\n",
        "else:\n",
        "  print(\"The matrice does not have the same shape\")\n"
      ]
    },
    {
      "cell_type": "markdown",
      "source": [
        "[Problem 6] Transposition"
      ],
      "metadata": {
        "id": "dL9UPJFaGGgr"
      }
    },
    {
      "cell_type": "code",
      "source": [
        "transpose = np.transpose(d_ndarray)\n",
        "\n",
        "print(\"D_Transpose:: \")\n",
        "print(transpose)\n",
        "\n",
        "print(\"\\n Matrix E:: \")\n",
        "print(e_ndarray)\n",
        "\n",
        "print('\\n Multiplication of the matrice becomes ::' )\n",
        "print(multiply_matrix(transpose,e_ndarray))\n",
        "\n"
      ],
      "metadata": {
        "colab": {
          "base_uri": "https://localhost:8080/"
        },
        "id": "CGOnGCIVGKuQ",
        "outputId": "3278126f-01ef-4980-b209-a5d484eee8d5"
      },
      "execution_count": 62,
      "outputs": [
        {
          "output_type": "stream",
          "name": "stdout",
          "text": [
            "D_Transpose:: \n",
            "[[-1  4]\n",
            " [ 2 -5]\n",
            " [ 3  6]]\n",
            "\n",
            " Matrix E:: \n",
            "[[-9  8  7]\n",
            " [ 6 -5  4]]\n",
            "\n",
            " Multiplication of the matrice becomes ::\n",
            "[[ 33 -28   9]\n",
            " [-48  41  -6]\n",
            " [  9  -6  45]]\n"
          ]
        }
      ]
    }
  ],
  "metadata": {
    "colab": {
      "provenance": [],
      "authorship_tag": "ABX9TyOcQlUOYATzVa/0CPwNswK9",
      "include_colab_link": true
    },
    "kernelspec": {
      "display_name": "Python 3",
      "name": "python3"
    },
    "language_info": {
      "name": "python"
    }
  },
  "nbformat": 4,
  "nbformat_minor": 0
}