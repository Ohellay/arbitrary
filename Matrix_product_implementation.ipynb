{
  "cells": [
    {
      "cell_type": "markdown",
      "metadata": {
        "id": "view-in-github",
        "colab_type": "text"
      },
      "source": [
        "<a href=\"https://colab.research.google.com/github/Ohellay/arbitrary/blob/main/Matrix_product_implementation.ipynb\" target=\"_parent\"><img src=\"https://colab.research.google.com/assets/colab-badge.svg\" alt=\"Open In Colab\"/></a>"
      ]
    },
    {
      "cell_type": "markdown",
      "metadata": {
        "id": "9QKk2Ni6f56K"
      },
      "source": [
        "[Problem 1] Matrix product is calculated manually"
      ]
    },
    {
      "cell_type": "markdown",
      "metadata": {
        "id": "M-WrEkJRa1ku"
      },
      "source": [
        "The matrix product  calculated by hand is given by the image below  "
      ]
    },
    {
      "cell_type": "markdown",
      "metadata": {
        "id": "ev2mqWQZnGFX"
      },
      "source": [
        "![download.svg](data:image/svg+xml;base64,PHN2ZyB4bWxucz0iaHR0cDovL3d3dy53My5vcmcvMjAwMC9zdmciIGZvbnQtc2l6ZT0iMTYiIHRleHQtYW5jaG9yPSJtaWRkbGUiIGZpbGw9ImN1cnJlbnRDb2xvciIgd2lkdGg9IjEwMy41MTgxNjM3MDA1MjUwMXB4IiBoZWlnaHQ9IjQ4cHgiIHZpZXdCb3g9IjAgMCAxMDMuNTE4MTYzNzAwNTI1MDEgNDgiPjx0ZXh0IHg9IjIuNjY0MDYzIiB5PSI4IiB0cmFuc2Zvcm09InNjYWxlKDEuMzE2MDc0LCAzKSIgZHk9IjAuMjVlbSI+KDwvdGV4dD48dGV4dCB4PSIxNy45Mjc4MzIiIHk9IjgiIGR5PSIwLjI1ZW0iPuKIkjwvdGV4dD48dGV4dCB4PSIyNi40NDM0NTciIHk9IjgiIGR5PSIwLjI1ZW0iPjE8L3RleHQ+PHRleHQgeD0iNTEuNzU5MDgyIiB5PSI4IiBkeT0iMC4yNWVtIj4yPC90ZXh0Pjx0ZXh0IHg9IjgxLjU5MDMzMiIgeT0iOCIgZHk9IjAuMjVlbSI+MzwvdGV4dD48dGV4dCB4PSIyMS45Mjc4MzIiIHk9IjI0IiBkeT0iMC4yNWVtIj40PC90ZXh0Pjx0ZXh0IHg9IjQ3Ljc1OTA4MiIgeT0iMjQiIGR5PSIwLjI1ZW0iPuKIkjwvdGV4dD48dGV4dCB4PSI1Ni4yNzQ3MDciIHk9IjI0IiBkeT0iMC4yNWVtIj41PC90ZXh0Pjx0ZXh0IHg9IjgxLjU5MDMzMiIgeT0iMjQiIGR5PSIwLjI1ZW0iPjY8L3RleHQ+PHRleHQgeD0iMjEuOTI3ODMyIiB5PSI0MCIgZHk9IjAuMjVlbSI+NzwvdGV4dD48dGV4dCB4PSI1MS43NTkwODIiIHk9IjQwIiBkeT0iMC4yNWVtIj44PC90ZXh0Pjx0ZXh0IHg9Ijc3LjU5MDMzMiIgeT0iNDAiIGR5PSIwLjI1ZW0iPuKIkjwvdGV4dD48dGV4dCB4PSI4Ni4xMDU5NTciIHk9IjQwIiBkeT0iMC4yNWVtIj45PC90ZXh0Pjx0ZXh0IHg9Ijc1Ljk5MjczMiIgeT0iOCIgdHJhbnNmb3JtPSJzY2FsZSgxLjMxNjA3NCwgMykiIGR5PSIwLjI1ZW0iPik8L3RleHQ+PC9zdmc+) .  ![download (1).svg](data:image/svg+xml;base64,PHN2ZyB4bWxucz0iaHR0cDovL3d3dy53My5vcmcvMjAwMC9zdmciIGZvbnQtc2l6ZT0iMTYiIHRleHQtYW5jaG9yPSJtaWRkbGUiIGZpbGw9ImN1cnJlbnRDb2xvciIgd2lkdGg9Ijg1LjQ1NTY2MzcwMDUyNTAxcHgiIGhlaWdodD0iNDhweCIgdmlld0JveD0iMCAwIDg1LjQ1NTY2MzcwMDUyNTAxIDQ4Ij48dGV4dCB4PSIyLjY2NDA2MyIgeT0iOCIgdHJhbnNmb3JtPSJzY2FsZSgxLjMxNjA3NCwgMykiIGR5PSIwLjI1ZW0iPig8L3RleHQ+PHRleHQgeD0iMTcuNDEyMjA3IiB5PSI4IiBkeT0iMC4yNWVtIj4wPC90ZXh0Pjx0ZXh0IHg9IjM4LjIxMjIwNyIgeT0iOCIgZHk9IjAuMjVlbSI+MjwvdGV4dD48dGV4dCB4PSI2My41Mjc4MzIiIHk9IjgiIGR5PSIwLjI1ZW0iPjE8L3RleHQ+PHRleHQgeD0iMTcuNDEyMjA3IiB5PSIyNCIgZHk9IjAuMjVlbSI+MDwvdGV4dD48dGV4dCB4PSIzOC4yMTIyMDciIHk9IjI0IiBkeT0iMC4yNWVtIj4yPC90ZXh0Pjx0ZXh0IHg9IjU5LjUyNzgzMiIgeT0iMjQiIGR5PSIwLjI1ZW0iPuKIkjwvdGV4dD48dGV4dCB4PSI2OC4wNDM0NTciIHk9IjI0IiBkeT0iMC4yNWVtIj44PC90ZXh0Pjx0ZXh0IHg9IjE3LjQxMjIwNyIgeT0iNDAiIGR5PSIwLjI1ZW0iPjI8L3RleHQ+PHRleHQgeD0iMzguMjEyMjA3IiB5PSI0MCIgZHk9IjAuMjVlbSI+OTwvdGV4dD48dGV4dCB4PSI1OS41Mjc4MzIiIHk9IjQwIiBkeT0iMC4yNWVtIj7iiJI8L3RleHQ+PHRleHQgeD0iNjguMDQzNDU3IiB5PSI0MCIgZHk9IjAuMjVlbSI+MTwvdGV4dD48dGV4dCB4PSI2Mi4yNjgyIiB5PSI4IiB0cmFuc2Zvcm09InNjYWxlKDEuMzE2MDc0LCAzKSIgZHk9IjAuMjVlbSI+KTwvdGV4dD48L3N2Zz4=)  = ![download (2).svg](data:image/svg+xml;base64,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) =![download (3).svg](data:image/svg+xml;base64,PHN2ZyB4bWxucz0iaHR0cDovL3d3dy53My5vcmcvMjAwMC9zdmciIGZvbnQtc2l6ZT0iMTYiIHRleHQtYW5jaG9yPSJtaWRkbGUiIGZpbGw9ImN1cnJlbnRDb2xvciIgd2lkdGg9IjEyNy41MTgxNjM3MDA1MjVweCIgaGVpZ2h0PSI0OHB4IiB2aWV3Qm94PSIwIDAgMTI3LjUxODE2MzcwMDUyNSA0OCI+PHRleHQgeD0iMi42NjQwNjMiIHk9IjgiIHRyYW5zZm9ybT0ic2NhbGUoMS4zMTYwNzQsIDMpIiBkeT0iMC4yNWVtIj4oPC90ZXh0Pjx0ZXh0IHg9IjI1LjkyNzgzMiIgeT0iOCIgZHk9IjAuMjVlbSI+NjwvdGV4dD48dGV4dCB4PSI2My43NTkwODIiIHk9IjgiIGR5PSIwLjI1ZW0iPjI5PC90ZXh0Pjx0ZXh0IHg9IjkzLjU5MDMzMiIgeT0iOCIgZHk9IjAuMjVlbSI+4oiSPC90ZXh0Pjx0ZXh0IHg9IjEwNi4xMDU5NTciIHk9IjgiIGR5PSIwLjI1ZW0iPjIwPC90ZXh0Pjx0ZXh0IHg9IjI1LjkyNzgzMiIgeT0iMjQiIGR5PSIwLjI1ZW0iPjEyPC90ZXh0Pjx0ZXh0IHg9IjYzLjc1OTA4MiIgeT0iMjQiIGR5PSIwLjI1ZW0iPjUyPC90ZXh0Pjx0ZXh0IHg9IjEwMS41OTAzMzIiIHk9IjI0IiBkeT0iMC4yNWVtIj4zODwvdGV4dD48dGV4dCB4PSIxNy45Mjc4MzIiIHk9IjQwIiBkeT0iMC4yNWVtIj7iiJI8L3RleHQ+PHRleHQgeD0iMzAuNDQzNDU3IiB5PSI0MCIgZHk9IjAuMjVlbSI+MTg8L3RleHQ+PHRleHQgeD0iNTUuNzU5MDgyIiB5PSI0MCIgZHk9IjAuMjVlbSI+4oiSPC90ZXh0Pjx0ZXh0IHg9IjY4LjI3NDcwNyIgeT0iNDAiIGR5PSIwLjI1ZW0iPjUxPC90ZXh0Pjx0ZXh0IHg9IjkzLjU5MDMzMiIgeT0iNDAiIGR5PSIwLjI1ZW0iPuKIkjwvdGV4dD48dGV4dCB4PSIxMDYuMTA1OTU3IiB5PSI0MCIgZHk9IjAuMjVlbSI+NDg8L3RleHQ+PHRleHQgeD0iOTQuMjI4Nzg5IiB5PSI4IiB0cmFuc2Zvcm09InNjYWxlKDEuMzE2MDc0LCAzKSIgZHk9IjAuMjVlbSI+KTwvdGV4dD48L3N2Zz4=)"
      ]
    },
    {
      "cell_type": "markdown",
      "metadata": {
        "id": "-qu0VHhfgM95"
      },
      "source": [
        "[Problem 2] Calculation by NumPy function"
      ]
    },
    {
      "cell_type": "markdown",
      "metadata": {
        "id": "-bfA5rNQojec"
      },
      "source": [
        "Using Np.matmul"
      ]
    },
    {
      "cell_type": "code",
      "execution_count": null,
      "metadata": {
        "colab": {
          "background_save": true,
          "base_uri": "https://localhost:8080/"
        },
        "id": "FuQDzMENmWhI",
        "outputId": "6eced577-2d9b-451f-ad90-d2726d32126c"
      },
      "outputs": [
        {
          "name": "stdout",
          "output_type": "stream",
          "text": [
            "[[  6  29 -20]\n",
            " [ 12  52  38]\n",
            " [-18 -51 -48]]\n"
          ]
        }
      ],
      "source": [
        "import numpy as np\n",
        "a_ndarray = np.array([[-1, 2, 3], [4, -5, 6], [7, 8, -9]])\n",
        "b_ndarray = np.array([[0, 2, 1], [0, 2, -8], [2, 9, -1]])\n",
        "\n",
        "AXB = np.matmul(a_ndarray ,b_ndarray )\n",
        "print (AXB)"
      ]
    },
    {
      "cell_type": "markdown",
      "metadata": {
        "id": "heeH52mZorkq"
      },
      "source": [
        "Using Np.dot"
      ]
    },
    {
      "cell_type": "code",
      "execution_count": null,
      "metadata": {
        "colab": {
          "background_save": true,
          "base_uri": "https://localhost:8080/"
        },
        "id": "6JPn0UcGnnl7",
        "outputId": "07ff5cc8-cd27-4aa9-efb7-1f4edb9b1eb0"
      },
      "outputs": [
        {
          "name": "stdout",
          "output_type": "stream",
          "text": [
            "[[  6  29 -20]\n",
            " [ 12  52  38]\n",
            " [-18 -51 -48]]\n"
          ]
        }
      ],
      "source": [
        "import numpy as np\n",
        "a_ndarray = np.array([[-1, 2, 3], [4, -5, 6], [7, 8, -9]])\n",
        "b_ndarray = np.array([[0, 2, 1], [0, 2, -8], [2, 9, -1]])\n",
        "AXB = np.dot(a_ndarray, b_ndarray)\n",
        "print(AXB)"
      ]
    },
    {
      "cell_type": "markdown",
      "metadata": {
        "id": "UFO_31N9pPvo"
      },
      "source": [
        "Using @ operator"
      ]
    },
    {
      "cell_type": "code",
      "execution_count": null,
      "metadata": {
        "colab": {
          "background_save": true,
          "base_uri": "https://localhost:8080/"
        },
        "id": "wa0a3xmfqKCW",
        "outputId": "19915ea4-a1c8-4600-9e12-6c4a6b24137e"
      },
      "outputs": [
        {
          "name": "stdout",
          "output_type": "stream",
          "text": [
            "[[  6  29 -20]\n",
            " [ 12  52  38]\n",
            " [-18 -51 -48]]\n"
          ]
        }
      ],
      "source": [
        "AXB = a_ndarray @ b_ndarray\n",
        "print(AXB)"
      ]
    },
    {
      "cell_type": "markdown",
      "metadata": {
        "id": "08xSiRScZ7Di"
      },
      "source": [
        "\n",
        "[Problem 3] Implementation of calculation of a certain element\n",
        "When doing the calculations by hand, you may have first paid attention to row 0 of matrix A and column 0 of matrix B, and then performed the following calculations.\n",
        "\n",
        "\n",
        "\n",
        "> Multiply the (0,0) element $a_{0, 0}$ of matrix A with the (0,0) element $b_{0, 0}$ of matrix B\n",
        "\n",
        "\n",
        "\n",
        "\n",
        "> Multiply the (0,1) element $a_{0, 1}$ of matrix A with the (1,0) element $b_{1, 0}$ of matrix B\n",
        "\n",
        "> Multiply the (0,2) element $a_{0, 2}$ of matrix A with the (2,0) element $b_{2, 0}$ of matrix B\n",
        "\n",
        ">Add all those values together\n",
        "\n",
        "\n",
        "\n",
        "\n",
        "\n",
        "\n",
        "\n"
      ]
    },
    {
      "cell_type": "code",
      "execution_count": null,
      "metadata": {
        "colab": {
          "background_save": true,
          "base_uri": "https://localhost:8080/"
        },
        "id": "ZefWPYfwaCgg",
        "outputId": "b29f7ef0-8de3-4b63-c6ae-4891593ae3e8"
      },
      "outputs": [
        {
          "name": "stdout",
          "output_type": "stream",
          "text": [
            "Result (0, 0): 6\n"
          ]
        }
      ],
      "source": [
        "import numpy as np\n",
        "\n",
        "# Given matrices A and B\n",
        "a_ndarray = np.array([[-1, 2, 3], [4, -5, 6], [7, 8, -9]])\n",
        "b_ndarray = np.array([[0, 2, 1], [0, 2, -8], [2, 9, -1]])\n",
        "\n",
        "# To  implement the calculation of the (0, 0)\n",
        "A0XB0 = a_ndarray[0, 0] * b_ndarray[0, 0]\n",
        "A0XB1 = a_ndarray[0, 1] * b_ndarray[1, 0]\n",
        "A0XB2 = a_ndarray[0, 2] * b_ndarray[2, 0]\n",
        "\n",
        "#The SUM\n",
        "SUM = A0XB0 + A0XB1 + A0XB2\n",
        "\n",
        "\n",
        "\n",
        "# Print the result\n",
        "print(f\"Result (0, 0): {SUM}\")\n"
      ]
    },
    {
      "cell_type": "markdown",
      "metadata": {
        "id": "jZ-eASSla2i7"
      },
      "source": [
        "[Problem 4] Creating a function that performs matrix multiplication"
      ]
    },
    {
      "cell_type": "code",
      "execution_count": 56,
      "metadata": {
        "colab": {
          "base_uri": "https://localhost:8080/"
        },
        "id": "INIZm_-grJjC",
        "outputId": "78be137d-24c7-4bdc-f04f-f1ad2854faf9"
      },
      "outputs": [
        {
          "output_type": "stream",
          "name": "stdout",
          "text": [
            "Matrix A:: \n",
            "[[-1  2  3]\n",
            " [ 4 -5  6]\n",
            " [ 7  8 -9]]\n",
            "\n",
            "Matrix B:\n",
            "[[ 0  2  1]\n",
            " [ 0  2 -8]\n",
            " [ 2  9 -1]]\n",
            "\n",
            "Matrix multiplication result:\n",
            "[[  6  29 -20]\n",
            " [ 12  52  38]\n",
            " [-18 -51 -48]]\n"
          ]
        }
      ],
      "source": [
        "import numpy as np\n",
        "\n",
        "a_ndarray = np.array([[-1, 2, 3], [4, -5, 6], [7, 8, -9]])\n",
        "b_ndarray = np.array([[0, 2, 1], [0, 2, -8], [2, 9, -1]])\n",
        "\n",
        "def multiply_matrix(a, b):\n",
        "    # To Get the dimensions of the matrices\n",
        "    rows_A, cols_A = a.shape\n",
        "    rows_B, cols_B = b.shape\n",
        "\n",
        "      # The empty matrix to store the result\n",
        "    result = np.zeros((rows_A, cols_B), dtype=int)\n",
        "\n",
        "    #The  matrix multiplication is given by\n",
        "    for a_row in range(rows_A):\n",
        "        for b_col in range(cols_B):\n",
        "            result[a_row, b_col] = sum(a[a_row, :] * b[:, b_col])\n",
        "\n",
        "    return result\n",
        "\n",
        "result = multiply_matrix(a_ndarray, b_ndarray)\n",
        "\n",
        "print(\"Matrix A:: \")\n",
        "print(a_ndarray)\n",
        "print(\"\\nMatrix B:\")\n",
        "print(b_ndarray)\n",
        "print(\"\\nMatrix multiplication result:\")\n",
        "print(result)"
      ]
    },
    {
      "cell_type": "markdown",
      "metadata": {
        "id": "LjlnzFjL895s"
      },
      "source": [
        "The matrix product DE is defined when the number of columns of D is equal to the number of rows of E, so it cannot be calculated in this example. The code below proofs thee above statement:"
      ]
    },
    {
      "cell_type": "code",
      "execution_count": 57,
      "metadata": {
        "colab": {
          "base_uri": "https://localhost:8080/",
          "height": 366
        },
        "id": "9uJO6_wn8_YJ",
        "outputId": "5e36658a-c619-4da3-9e4c-c77b749497e7"
      },
      "outputs": [
        {
          "output_type": "error",
          "ename": "ValueError",
          "evalue": "ignored",
          "traceback": [
            "\u001b[0;31m---------------------------------------------------------------------------\u001b[0m",
            "\u001b[0;31mValueError\u001b[0m                                Traceback (most recent call last)",
            "\u001b[0;32m<ipython-input-57-a7741bc55b4f>\u001b[0m in \u001b[0;36m<cell line: 6>\u001b[0;34m()\u001b[0m\n\u001b[1;32m      4\u001b[0m \u001b[0me_ndarray\u001b[0m \u001b[0;34m=\u001b[0m \u001b[0mnp\u001b[0m\u001b[0;34m.\u001b[0m\u001b[0marray\u001b[0m\u001b[0;34m(\u001b[0m\u001b[0;34m[\u001b[0m\u001b[0;34m[\u001b[0m\u001b[0;34m-\u001b[0m\u001b[0;36m9\u001b[0m\u001b[0;34m,\u001b[0m \u001b[0;36m8\u001b[0m\u001b[0;34m,\u001b[0m \u001b[0;36m7\u001b[0m\u001b[0;34m]\u001b[0m\u001b[0;34m,\u001b[0m \u001b[0;34m[\u001b[0m\u001b[0;36m6\u001b[0m\u001b[0;34m,\u001b[0m \u001b[0;34m-\u001b[0m\u001b[0;36m5\u001b[0m\u001b[0;34m,\u001b[0m \u001b[0;36m4\u001b[0m\u001b[0;34m]\u001b[0m\u001b[0;34m]\u001b[0m\u001b[0;34m)\u001b[0m\u001b[0;34m\u001b[0m\u001b[0;34m\u001b[0m\u001b[0m\n\u001b[1;32m      5\u001b[0m \u001b[0;34m\u001b[0m\u001b[0m\n\u001b[0;32m----> 6\u001b[0;31m \u001b[0mresult\u001b[0m \u001b[0;34m=\u001b[0m \u001b[0mmultiply_matrix\u001b[0m\u001b[0;34m(\u001b[0m\u001b[0md_ndarray\u001b[0m\u001b[0;34m,\u001b[0m \u001b[0me_ndarray\u001b[0m\u001b[0;34m)\u001b[0m\u001b[0;34m\u001b[0m\u001b[0;34m\u001b[0m\u001b[0m\n\u001b[0m\u001b[1;32m      7\u001b[0m \u001b[0;34m\u001b[0m\u001b[0m\n\u001b[1;32m      8\u001b[0m \u001b[0mprint\u001b[0m\u001b[0;34m(\u001b[0m\u001b[0;34m\"Matrix A:: \"\u001b[0m\u001b[0;34m)\u001b[0m\u001b[0;34m\u001b[0m\u001b[0;34m\u001b[0m\u001b[0m\n",
            "\u001b[0;32m<ipython-input-56-416fd218f0d6>\u001b[0m in \u001b[0;36mmultiply_matrix\u001b[0;34m(a, b)\u001b[0m\n\u001b[1;32m     15\u001b[0m     \u001b[0;32mfor\u001b[0m \u001b[0ma_row\u001b[0m \u001b[0;32min\u001b[0m \u001b[0mrange\u001b[0m\u001b[0;34m(\u001b[0m\u001b[0mrows_A\u001b[0m\u001b[0;34m)\u001b[0m\u001b[0;34m:\u001b[0m\u001b[0;34m\u001b[0m\u001b[0;34m\u001b[0m\u001b[0m\n\u001b[1;32m     16\u001b[0m         \u001b[0;32mfor\u001b[0m \u001b[0mb_col\u001b[0m \u001b[0;32min\u001b[0m \u001b[0mrange\u001b[0m\u001b[0;34m(\u001b[0m\u001b[0mcols_B\u001b[0m\u001b[0;34m)\u001b[0m\u001b[0;34m:\u001b[0m\u001b[0;34m\u001b[0m\u001b[0;34m\u001b[0m\u001b[0m\n\u001b[0;32m---> 17\u001b[0;31m             \u001b[0mresult\u001b[0m\u001b[0;34m[\u001b[0m\u001b[0ma_row\u001b[0m\u001b[0;34m,\u001b[0m \u001b[0mb_col\u001b[0m\u001b[0;34m]\u001b[0m \u001b[0;34m=\u001b[0m \u001b[0msum\u001b[0m\u001b[0;34m(\u001b[0m\u001b[0ma\u001b[0m\u001b[0;34m[\u001b[0m\u001b[0ma_row\u001b[0m\u001b[0;34m,\u001b[0m \u001b[0;34m:\u001b[0m\u001b[0;34m]\u001b[0m \u001b[0;34m*\u001b[0m \u001b[0mb\u001b[0m\u001b[0;34m[\u001b[0m\u001b[0;34m:\u001b[0m\u001b[0;34m,\u001b[0m \u001b[0mb_col\u001b[0m\u001b[0;34m]\u001b[0m\u001b[0;34m)\u001b[0m\u001b[0;34m\u001b[0m\u001b[0;34m\u001b[0m\u001b[0m\n\u001b[0m\u001b[1;32m     18\u001b[0m \u001b[0;34m\u001b[0m\u001b[0m\n\u001b[1;32m     19\u001b[0m     \u001b[0;32mreturn\u001b[0m \u001b[0mresult\u001b[0m\u001b[0;34m\u001b[0m\u001b[0;34m\u001b[0m\u001b[0m\n",
            "\u001b[0;31mValueError\u001b[0m: operands could not be broadcast together with shapes (3,) (2,) "
          ]
        }
      ],
      "source": [
        "import numpy as np\n",
        "\n",
        "d_ndarray = np.array([[-1, 2, 3], [4, -5, 6]])\n",
        "e_ndarray = np.array([[-9, 8, 7], [6, -5, 4]])\n",
        "\n",
        "result = multiply_matrix(d_ndarray, e_ndarray)\n",
        "\n",
        "print(\"Matrix A:: \")\n",
        "print(d_ndarray)\n",
        "print(\"\\nMatrix B:\")\n",
        "print(e_ndarray)\n",
        "print(\"\\nMatrix multiplication result:\")\n",
        "print(result)"
      ]
    },
    {
      "cell_type": "markdown",
      "metadata": {
        "id": "ROSLrmnvrDHZ"
      },
      "source": [
        "[Problem 5] Judge the input whose calculation is not defined"
      ]
    },
    {
      "cell_type": "code",
      "execution_count": 61,
      "metadata": {
        "colab": {
          "base_uri": "https://localhost:8080/"
        },
        "id": "nB_QHgcq604m",
        "outputId": "8ea87c2f-55f2-4044-88ac-a176fec943a1"
      },
      "outputs": [
        {
          "output_type": "stream",
          "name": "stdout",
          "text": [
            "The matrice does not have the same shape\n"
          ]
        }
      ],
      "source": [
        "import numpy as np\n",
        "\n",
        "d_ndarray = np.array([[-1, 2, 3], [4, -5, 6]])\n",
        "e_ndarray = np.array([[-9, 8, 7], [6, -5, 4]])\n",
        "\n",
        "if d_ndarray .shape[0] == e_ndarray .shape[1]:\n",
        "  print ('The result ::' ,multiply_matrix(d_ndarray,e_ndarray))\n",
        "\n",
        "else:\n",
        "  print(\"The matrice does not have the same shape\")\n"
      ]
    },
    {
      "cell_type": "markdown",
      "source": [
        "[Problem 6] Transposition"
      ],
      "metadata": {
        "id": "dL9UPJFaGGgr"
      }
    },
    {
      "cell_type": "code",
      "source": [
        "transpose = np.transpose(d_ndarray)\n",
        "\n",
        "print(\"D_Transpose:: \")\n",
        "print(transpose)\n",
        "\n",
        "print(\"\\n Matrix E:: \")\n",
        "print(e_ndarray)\n",
        "\n",
        "print('\\n Multiplication of the matrice becomes ::' )\n",
        "print(multiply_matrix(transpose,e_ndarray))\n",
        "\n"
      ],
      "metadata": {
        "colab": {
          "base_uri": "https://localhost:8080/"
        },
        "id": "CGOnGCIVGKuQ",
        "outputId": "3278126f-01ef-4980-b209-a5d484eee8d5"
      },
      "execution_count": 62,
      "outputs": [
        {
          "output_type": "stream",
          "name": "stdout",
          "text": [
            "D_Transpose:: \n",
            "[[-1  4]\n",
            " [ 2 -5]\n",
            " [ 3  6]]\n",
            "\n",
            " Matrix E:: \n",
            "[[-9  8  7]\n",
            " [ 6 -5  4]]\n",
            "\n",
            " Multiplication of the matrice becomes ::\n",
            "[[ 33 -28   9]\n",
            " [-48  41  -6]\n",
            " [  9  -6  45]]\n"
          ]
        }
      ]
    }
  ],
  "metadata": {
    "colab": {
      "provenance": [],
      "authorship_tag": "ABX9TyNlA7+pEgU5AcEthW1LpqZz",
      "include_colab_link": true
    },
    "kernelspec": {
      "display_name": "Python 3",
      "name": "python3"
    },
    "language_info": {
      "name": "python"
    }
  },
  "nbformat": 4,
  "nbformat_minor": 0
}