{
  "nbformat": 4,
  "nbformat_minor": 0,
  "metadata": {
    "colab": {
      "provenance": [],
      "toc_visible": true,
      "authorship_tag": "ABX9TyMIatCd+6aAHBML8TPLz6kf",
      "include_colab_link": true
    },
    "kernelspec": {
      "name": "python3",
      "display_name": "Python 3"
    },
    "language_info": {
      "name": "python"
    }
  },
  "cells": [
    {
      "cell_type": "markdown",
      "metadata": {
        "id": "view-in-github",
        "colab_type": "text"
      },
      "source": [
        "<a href=\"https://colab.research.google.com/github/Ohellay/arbitrary/blob/main/Mt_Fuji.ipynb\" target=\"_parent\"><img src=\"https://colab.research.google.com/assets/colab-badge.svg\" alt=\"Open In Colab\"/></a>"
      ]
    },
    {
      "cell_type": "markdown",
      "source": [
        "PROBLEM 1"
      ],
      "metadata": {
        "id": "oDKplv_l8nOO"
      }
    },
    {
      "cell_type": "code",
      "execution_count": 34,
      "metadata": {
        "id": "BsXb36-EytRn",
        "colab": {
          "base_uri": "https://localhost:8080/"
        },
        "outputId": "ca96e1cc-078e-437f-8c19-fd7f22e70d66"
      },
      "outputs": [
        {
          "output_type": "stream",
          "name": "stdout",
          "text": [
            "exceeded at fuji on the 27th fold\n"
          ]
        }
      ],
      "source": [
        "#t_n = t_0* x-mark (used to indicate an incorrect answer in a test, etc.) 2^n\n",
        "# Since the thickness of a typical copy paper is approximately 0.00008m, set $ t_ {0} = 0.00008$.\n",
        "# Given  Mount Fuji height as 3776\n",
        "\n",
        "t_0 = 0.00008\n",
        "MT_FUJI  = 3776\n",
        "x_mark = 1\n",
        "current_thickness = 0\n",
        "\n",
        "while(current_thickness < MT_FUJI):\n",
        "  current_thickness = t_0 * (2**x_mark)\n",
        "  x_mark += 1\n",
        "print(f\"exceeded at fuji on the {x_mark}th fold\")\n"
      ]
    },
    {
      "cell_type": "markdown",
      "source": [
        "PROBLEM 2"
      ],
      "metadata": {
        "id": "RwHTlSBxOIhn"
      }
    },
    {
      "cell_type": "code",
      "source": [
        "#This function, calculate how many times you would need to fold a piece of paper to reach the nearest non-sun star.\n",
        "#The nearest non-sun star is Proxima Centauri, which is about $4.0175 \\times 10^{16}$m away from Earth.\n",
        "# since we are testing the program with the distance of proxima centauri, let the height = distance_proxima_centauri\n",
        "# Given distance of Proxima Centauri in meter as 4.0175 * 10^16\n",
        "\n",
        "t_0 = 0.00008\n",
        "height = (4.0175)* (10**16)\n",
        "\n",
        "def calculate_number_of_fold_from_distance(height):\n",
        "  current_distance = 0\n",
        "  x_mark_distance = 1\n",
        "\n",
        "  while(current_distance < height ):\n",
        "    current_distance= t_0 * (2**x_mark_distance)\n",
        "    x_mark_distance += 1\n",
        "  return x_mark_distance\n",
        "\n",
        "result = calculate_number_of_fold_from_distance(height)\n",
        "\n",
        "print(f\"reached Proxima Centauri on the {result}th fold\")\n"
      ],
      "metadata": {
        "colab": {
          "base_uri": "https://localhost:8080/"
        },
        "id": "vk0EH7kaPEU_",
        "outputId": "d9d70cfb-42dd-456f-be6c-4c701963e965"
      },
      "execution_count": 49,
      "outputs": [
        {
          "output_type": "stream",
          "name": "stdout",
          "text": [
            "reached Proxima Centauri on the 70th fold\n"
          ]
        }
      ]
    },
    {
      "cell_type": "markdown",
      "source": [
        "PROBLEM 3\n"
      ],
      "metadata": {
        "id": "d1-ZGzOH9AzC"
      }
    },
    {
      "cell_type": "code",
      "source": [
        "# Given Length  L = pi* t_0/6 * (2^n + 4)(2^n - 1)\n",
        "\n",
        "# Using the formula to implement a function that finds the length of paper needed to actually fold the paper and reach any thickness.\n",
        "\n",
        "# Then also using this to find out the length of paper needed to reach the Moon, Mt. Fuji, and the stars closest to the Sun(Proxima Centauri).\n",
        "\n",
        "import math\n",
        "\n",
        "def calculate_length_paper_fold_time(fold_times):\n",
        "  t_0 = 0.00008\n",
        "  pi = math.pi\n",
        "\n",
        "  length = ((pi * t_0) / 6)*((2**fold_times)+4)*((2**fold_times)-1)\n",
        "\n",
        "  return length\n",
        "\n",
        "distance_of_the_moon = 384400000 #(in meter)\n",
        "\n",
        "result_for_moon = calculate_length_paper_fold_time(calculate_number_of_fold_from_distance(distance_of_the_moon))\n",
        "result_for_mt_fuji = calculate_length_paper_fold_time(calculate_number_of_fold_from_distance(MT_FUJI))\n",
        "result_for_proxima_centauri = calculate_length_paper_fold_time(calculate_number_of_fold_from_distance(height))\n",
        "\n",
        "print(f\"The Length of paper needed to be folded to the moon is :: {result_for_moon}\")\n",
        "print(f\"The Length of paper needed to be folded to the MT_FUJI is :: {result_for_mt_fuji}\")\n",
        "print(f\"The Length of paper needed to be folded to the Proxima Centauri is ::  {result_for_proxima_centauri}  \")\n",
        "\n",
        "\n",
        "\n",
        "\n"
      ],
      "metadata": {
        "id": "lQJtjvBa9DbY",
        "colab": {
          "base_uri": "https://localhost:8080/"
        },
        "outputId": "902490d2-5463-4dca-cf36-c2631edb159b"
      },
      "execution_count": 47,
      "outputs": [
        {
          "output_type": "stream",
          "name": "stdout",
          "text": [
            "The Length of paper needed to be folded to the moon is :: 1.2963677776680917e+22\n",
            "The Length of paper needed to be folded to the MT_FUJI is :: 754585377082.664\n",
            "The Length of paper needed to be folded to the Proxima Centauri is ::  5.838321440440139e+37  \n"
          ]
        }
      ]
    }
  ]
}