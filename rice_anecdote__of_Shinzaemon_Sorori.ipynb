{
  "nbformat": 4,
  "nbformat_minor": 0,
  "metadata": {
    "colab": {
      "provenance": [],
      "authorship_tag": "ABX9TyMk0t/w54DSNm5oSPVXi/OT",
      "include_colab_link": true
    },
    "kernelspec": {
      "name": "python3",
      "display_name": "Python 3"
    },
    "language_info": {
      "name": "python"
    }
  },
  "cells": [
    {
      "cell_type": "markdown",
      "metadata": {
        "id": "view-in-github",
        "colab_type": "text"
      },
      "source": [
        "<a href=\"https://colab.research.google.com/github/Ohellay/arbitrary/blob/main/rice_anecdote__of_Shinzaemon_Sorori.ipynb\" target=\"_parent\"><img src=\"https://colab.research.google.com/assets/colab-badge.svg\" alt=\"Open In Colab\"/></a>"
      ]
    },
    {
      "cell_type": "markdown",
      "source": [
        "PROBLEM 1"
      ],
      "metadata": {
        "id": "P8RoeqyCLw9B"
      }
    },
    {
      "cell_type": "markdown",
      "source": [
        "This Program is called the Sorori Shinzaemon Issue"
      ],
      "metadata": {
        "id": "3uM1BWoaOv7h"
      }
    },
    {
      "cell_type": "code",
      "execution_count": 5,
      "metadata": {
        "colab": {
          "base_uri": "https://localhost:8080/"
        },
        "id": "brw3K0kMLnQj",
        "outputId": "9ec43fea-cebc-488d-e405-e83320fc22c2"
      },
      "outputs": [
        {
          "output_type": "stream",
          "name": "stdout",
          "text": [
            "The total rice grain after 100 days: 1267650600228229401496703205375 grains\n"
          ]
        }
      ],
      "source": [
        "grain  = 1\n",
        "total_days  = 100\n",
        "grain_per_day = []\n",
        "for day in range(total_days):\n",
        "  if day == \"0\":\n",
        "    grain_per_day.append(grain)\n",
        "  else:\n",
        "    grain_per_day.append((grain*2)**day)\n",
        "print(f'The total rice grain after 100 days: {sum(grain_per_day)} grains')"
      ]
    },
    {
      "cell_type": "markdown",
      "source": [
        "The Graph is show below\n"
      ],
      "metadata": {
        "id": "B2GwMk7yTui8"
      }
    },
    {
      "cell_type": "code",
      "source": [
        "import matplotlib.pyplot as plt\n",
        "%matplotlib inline\n",
        "\n",
        "# Display the graph. Title and axis label name.\n",
        "plt.title(\" Number of grains of rice on the 100th day\")\n",
        "plt.xlabel(\"number of days\")\n",
        "plt.ylabel(\" number of rice\")\n",
        "plt.plot(grain_per_day, color=\"orange\")\n",
        "plt.tick_params(labelsize=20) # Make settings related to axis values\n",
        "plt.show()"
      ],
      "metadata": {
        "colab": {
          "base_uri": "https://localhost:8080/",
          "height": 486
        },
        "id": "6XgGVWiiTxB_",
        "outputId": "c6951ac7-7619-490a-9d54-87bbd2396e1b"
      },
      "execution_count": 7,
      "outputs": [
        {
          "output_type": "display_data",
          "data": {
            "text/plain": [
              "<Figure size 640x480 with 1 Axes>"
            ],
            "image/png": "[encoded data removed]"
          },
          "metadata": {}
        }
      ]
    },
    {
      "cell_type": "markdown",
      "source": [
        "PROBLEM 2\n"
      ],
      "metadata": {
        "id": "0800pbCFVutY"
      }
    },
    {
      "cell_type": "code",
      "source": [
        "def compute_sorori_shinzaemon(n_days=100):\n",
        "    \"\"\"A function that calculates the number of rice grains per day in the rice anecdote of Shinzaemon Sorori.\n",
        "\n",
        "    Parameteres\n",
        "    -----------\n",
        "    n_days: int\n",
        "        Number of days to get rice (default : 100)\n",
        "\n",
        "    Returns\n",
        "    -------\n",
        "    list_n_grains : list\n",
        "        List of the number of rice you get one day (list length equals n_days)\n",
        "    list_total_grains : list\n",
        "        List of total number of rice received by a certain day (list length is equal to n_days)\n",
        "    \"\"\"\n",
        "\n",
        "    for day in range(n_days):\n",
        "      total = \"\"\n",
        "      if day == \"0\":\n",
        "        list_n_grains.append(grain)\n",
        "      else:\n",
        "        list_n_grains.append((grain*2)**day)\n",
        "        list_total_grains = sum(list_n_grains)\n",
        "        total = list_total_grains\n",
        "\n",
        "    return list_n_grains, list_total_grains\n",
        "\n",
        "grain  = 1\n",
        "list_n_grains= []\n",
        "list_n_grains, list_total_grains = compute_sorori_shinzaemon(n_days=10)\n",
        "print(f\"The total grains::  {list_total_grains}\")\n",
        "\n"
      ],
      "metadata": {
        "colab": {
          "base_uri": "https://localhost:8080/"
        },
        "id": "-wNmMcadVw3b",
        "outputId": "d38be5f1-9eb6-49d3-a9cf-45661f4e9180"
      },
      "execution_count": 93,
      "outputs": [
        {
          "output_type": "stream",
          "name": "stdout",
          "text": [
            "The total grains::  1023\n"
          ]
        }
      ]
    },
    {
      "cell_type": "markdown",
      "source": [
        "PROBLEM 3"
      ],
      "metadata": {
        "id": "QGTPbGsHFI14"
      }
    },
    {
      "cell_type": "code",
      "source": [
        "def calculate_rice_supply(grains_of_rice):\n",
        "    AVERAGE_DAILY_RICE_CONSUMPTION = 400  #  an average of 150 grains per person per day\n",
        "    # according to https://www.researchgate.net/figure/Consumption-of-white-rice-g-day-in-different-geographic-regions-South-Asia-includes_fig1_344096333\n",
        "\n",
        "    # Calculate the number of people who can live\n",
        "    people = grains_of_rice / AVERAGE_DAILY_RICE_CONSUMPTION\n",
        "\n",
        "    # Calculate the number of days they can live\n",
        "    days = grains_of_rice / (people * AVERAGE_DAILY_RICE_CONSUMPTION)\n",
        "\n",
        "\n",
        "\n",
        "    return people, days\n",
        "\n",
        "\n",
        "total_grain = 1023 # our value from the above calculate grains\n",
        "people, days = calculate_rice_supply(grains_of_rice)\n",
        "print(f\"With {grains_of_rice} grains of rice:\")\n",
        "print(f\"You can sustain {people:.0f} people for {days:.2f} days.\")\n"
      ],
      "metadata": {
        "colab": {
          "base_uri": "https://localhost:8080/"
        },
        "id": "dL2qc6IUFLPP",
        "outputId": "3a5aa1c1-12b9-4676-8ea8-ca3d7d60c0e7"
      },
      "execution_count": 101,
      "outputs": [
        {
          "output_type": "stream",
          "name": "stdout",
          "text": [
            "With 1023 grains of rice:\n",
            "You can sustain 3 people for 1.00 days.\n"
          ]
        }
      ]
    }
  ]
}