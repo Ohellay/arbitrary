{
  "cells": [
    {
      "cell_type": "markdown",
      "metadata": {
        "id": "view-in-github",
        "colab_type": "text"
      },
      "source": [
        "<a href=\"https://colab.research.google.com/github/Ohellay/arbitrary/blob/main/Wheat_and_chess_board.ipynb\" target=\"_parent\"><img src=\"https://colab.research.google.com/assets/colab-badge.svg\" alt=\"Open In Colab\"/></a>"
      ]
    },
    {
      "cell_type": "markdown",
      "metadata": {
        "id": "kSm8XnQyG2-r"
      },
      "source": [
        "\n",
        "Wheat and chess board problem\n",
        "> Problem 1\n",
        "\n"
      ]
    },
    {
      "cell_type": "code",
      "execution_count": null,
      "metadata": {
        "colab": {
          "base_uri": "https://localhost:8080/"
        },
        "id": "z-Gpu-dcG0oi",
        "outputId": "c0ab7724-7549-4b14-eaa1-36584b215edc"
      },
      "outputs": [
        {
          "output_type": "stream",
          "name": "stdout",
          "text": [
            "Arrange wheat on a plate of 4 squares (ndarray)：[1, 2, 4, 8]\n"
          ]
        }
      ],
      "source": [
        "import numpy as np\n",
        "\n",
        "n_squares = 4\n",
        "small_board_list = [1]\n",
        "\n",
        "for _ in range(n_squares - 1):\n",
        "    small_board_list.append(2*small_board_list[-1])\n",
        "\n",
        "print(\"Arrange wheat on a plate of 4 squares (ndarray)：{}\".format(small_board_list))"
      ]
    },
    {
      "cell_type": "code",
      "execution_count": null,
      "metadata": {
        "colab": {
          "base_uri": "https://localhost:8080/"
        },
        "id": "uA5AQVnISsA8",
        "outputId": "0bfd9664-0c4d-4f67-93c6-a47bc08234fd"
      },
      "outputs": [
        {
          "output_type": "stream",
          "name": "stdout",
          "text": [
            "Arrange wheat on a plate of 4 squares (ndarray)：[1 2 4 8]\n"
          ]
        }
      ],
      "source": [
        "import numpy as np\n",
        "\n",
        "small_board_ndarray = np.array(small_board_list)\n",
        "print(\"Arrange wheat on a plate of 4 squares (ndarray)：{}\".format(small_board_ndarray))"
      ]
    },
    {
      "cell_type": "code",
      "execution_count": null,
      "metadata": {
        "colab": {
          "base_uri": "https://localhost:8080/"
        },
        "id": "y80k3ywANiMl",
        "outputId": "4cf1b2bb-a1d1-4404-bf87-51faeb4c0c66"
      },
      "outputs": [
        {
          "output_type": "stream",
          "name": "stdout",
          "text": [
            "[[1 2]\n",
            " [4 8]]\n"
          ]
        }
      ],
      "source": [
        "import numpy as np\n",
        "\n",
        "#Represent a 2 x 2 square chessboard by ndarray and calculate the number of wheat in each square. After placing one wheat on the upper left square, proceed to two to the right, four to the lower left, and eight to the lower right.\n",
        "reshape =  np.reshape(small_board_ndarray,(-1,2))\n",
        "print(reshape)"
      ]
    },
    {
      "cell_type": "markdown",
      "metadata": {
        "id": "P4OstbWzNNnt"
      },
      "source": [
        "PROBLEM 2"
      ]
    },
    {
      "cell_type": "code",
      "execution_count": null,
      "metadata": {
        "colab": {
          "base_uri": "https://localhost:8080/"
        },
        "id": "Yltr6TlxY8Kg",
        "outputId": "995dca29-fe8c-455d-91d5-6cee3145aa91"
      },
      "outputs": [
        {
          "output_type": "stream",
          "name": "stdout",
          "text": [
            "[[                  1                   2                   4\n",
            "                    8                  16                  32\n",
            "                   64                 128]\n",
            " [                256                 512                1024\n",
            "                 2048                4096                8192\n",
            "                16384               32768]\n",
            " [              65536              131072              262144\n",
            "               524288             1048576             2097152\n",
            "              4194304             8388608]\n",
            " [           16777216            33554432            67108864\n",
            "            134217728           268435456           536870912\n",
            "           1073741824          2147483648]\n",
            " [         4294967296          8589934592         17179869184\n",
            "          34359738368         68719476736        137438953472\n",
            "         274877906944        549755813888]\n",
            " [      1099511627776       2199023255552       4398046511104\n",
            "        8796093022208      17592186044416      35184372088832\n",
            "       70368744177664     140737488355328]\n",
            " [    281474976710656     562949953421312    1125899906842624\n",
            "     2251799813685248    4503599627370496    9007199254740992\n",
            "    18014398509481984   36028797018963968]\n",
            " [  72057594037927936  144115188075855872  288230376151711744\n",
            "   576460752303423488 1152921504606846976 2305843009213693952\n",
            "  4611686018427387904 9223372036854775808]]\n"
          ]
        }
      ],
      "source": [
        "import numpy as np\n",
        "\n",
        "def arrange_wheat_on_plate(n, m):\n",
        "    chess_board_square = n * m\n",
        "    reshape_8x8 = np.arange(chess_board_square)\n",
        "    chest_board_list = 2 ** reshape_8x8\n",
        "\n",
        "    return chest_board_list.reshape(n,m).astype(np.uint64)\n",
        "\n",
        "\n",
        "\n",
        "\n",
        "\n",
        "wheat_board_8x8 = arrange_wheat_on_plate(8, 8)\n",
        "print(wheat_board_8x8)\n"
      ]
    },
    {
      "cell_type": "markdown",
      "metadata": {
        "id": "seygLwQgNafs"
      },
      "source": [
        "PROBLEM 3\n",
        "\n",
        "\n",
        ">  To find the total number of wheat on a chess board of 8 x 8 squares. Also, find the average of each column and visualize it in a bar chart\n",
        "\n"
      ]
    },
    {
      "cell_type": "code",
      "execution_count": null,
      "metadata": {
        "colab": {
          "base_uri": "https://localhost:8080/"
        },
        "id": "3F8A8QWiO_4y",
        "outputId": "b79a4032-60b6-4ed3-af4c-f07445e75d2d"
      },
      "outputs": [
        {
          "output_type": "stream",
          "name": "stdout",
          "text": [
            "Total number of wheat on an 8x8 chess board: 18446744073709551615\n",
            "Average of each column::  [9.04252160e+15 1.80850432e+16 3.61700864e+16 7.23401728e+16\n",
            " 1.44680346e+17 2.89360691e+17 5.78721383e+17 1.15744277e+18]\n"
          ]
        }
      ],
      "source": [
        "n, m = 8,8\n",
        "wheat_board_8x8 = arrange_wheat_on_plate(n, m)\n",
        "# THE TOTAL WHEAT ON A CHESS BOARD OF 8 X 8 squares\n",
        "total_wheat_8x8 = np.sum(wheat_board_8x8)\n",
        "print(f\"Total number of wheat on an 8x8 chess board: {total_wheat_8x8}\")\n",
        "# THE AVERAGE OF EACH COLUMN ON A CHESS BOARD OF 8 X 8 squares\n",
        "average_on_each_column = np.mean(wheat_board_8x8,axis=0)\n",
        "print(f\"Average of each column:: \", average_on_each_column)"
      ]
    },
    {
      "cell_type": "markdown",
      "metadata": {
        "id": "nMcE715wRgpE"
      },
      "source": [
        "Visualizing the bar chart"
      ]
    },
    {
      "cell_type": "code",
      "execution_count": null,
      "metadata": {
        "colab": {
          "base_uri": "https://localhost:8080/",
          "height": 472
        },
        "id": "CDxkuHLNRonQ",
        "outputId": "724c0219-f891-4bba-f725-b52566c93146"
      },
      "outputs": [
        {
          "output_type": "display_data",
          "data": {
            "text/plain": [
              "<Figure size 640x480 with 1 Axes>"
            ],
            "image/png": "[encoded data removed]"
          },
          "metadata": {}
        }
      ],
      "source": [
        "import matplotlib.pyplot as plt\n",
        "%matplotlib inline\n",
        "\n",
        "plt.xlabel(\"column\")\n",
        "plt.ylabel(\"number\")\n",
        "plt.title(\"number in each column\")\n",
        "plt.bar(np.arange(1,9),average_on_each_column)\n",
        "plt.show()"
      ]
    },
    {
      "cell_type": "markdown",
      "metadata": {
        "id": "OvCpmFVzUK1f"
      },
      "source": [
        "Problem 4 Heat map of the number of wheat\n",
        "\n",
        "Visualize the number of wheat on the 8x8 chess board as a heat map.\n",
        "\n"
      ]
    },
    {
      "cell_type": "code",
      "execution_count": null,
      "metadata": {
        "colab": {
          "base_uri": "https://localhost:8080/",
          "height": 564
        },
        "id": "Fnagln9nUWZ6",
        "outputId": "8a04ae44-b019-4b4a-9861-5d1e4742ce62"
      },
      "outputs": [
        {
          "output_type": "display_data",
          "data": {
            "text/plain": [
              "<Figure size 800x600 with 2 Axes>"
            ],
            "image/png": "[encoded data removed]"
          },
          "metadata": {}
        }
      ],
      "source": [
        "plt.figure(figsize=(8, 6))\n",
        "plt.title('Heatmap Wheat on 8x8 Chessboard')\n",
        "plt.xlabel('Columns')\n",
        "plt.ylabel('Rows')\n",
        "plt.pcolor(wheat_board_8x8, cmap='YlGnBu')\n",
        "plt.colorbar(label='Number of Wheat Grains')\n",
        "plt.show()"
      ]
    },
    {
      "cell_type": "markdown",
      "metadata": {
        "id": "yybOd7W-iCPD"
      },
      "source": [
        "PROBLEM 5\n",
        "\n",
        "Find how many times the number of wheat in the second half of the chessboard is greater than the number of wheat in the first half. The first half is lines 0 to 3 of the array, and the second half is lines 4 to 7.\n",
        "\n"
      ]
    },
    {
      "cell_type": "code",
      "execution_count": null,
      "metadata": {
        "colab": {
          "base_uri": "https://localhost:8080/"
        },
        "id": "kYJEu6KIiKXf",
        "outputId": "3f66e98d-8598-4df2-eaeb-3b4eeb637239"
      },
      "outputs": [
        {
          "output_type": "stream",
          "name": "stdout",
          "text": [
            "First half wheat grains: 3825\n",
            "Second half wheat grains: 61200\n",
            "The number of wheat in the second half is 16.0 times greater than the first half.\n"
          ]
        }
      ],
      "source": [
        "import numpy as np\n",
        "\n",
        "\n",
        "def calculate_wheat():\n",
        "    # Create an 8x8 chessboard filled with zeros\n",
        "    chessboard = np.zeros((8, 8), dtype=int)\n",
        "\n",
        "    # Initialize the total number of wheat grains for each half\n",
        "    first_half_wheat = 0\n",
        "    second_half_wheat = 0\n",
        "\n",
        "    # Calculate the number of wheat grains on each square of the chessboard\n",
        "    for i in range(8):\n",
        "        for j in range(8):\n",
        "            chessboard[i][j] = 2 ** (i + j)  # Calculate wheat grains using the formula 2^(i+j)\n",
        "\n",
        "            # Accumulate wheat grains for each half\n",
        "            if i < 4:\n",
        "                first_half_wheat += chessboard[i][j]\n",
        "            else:\n",
        "                second_half_wheat += chessboard[i][j]\n",
        "\n",
        "    # Print the number of wheat grains on each half\n",
        "    print(\"First half wheat grains:\", first_half_wheat)\n",
        "    print(\"Second half wheat grains:\", second_half_wheat)\n",
        "\n",
        "    # Calculate how many times the number of wheat in the second half is greater than the first half\n",
        "    ratio = second_half_wheat / first_half_wheat\n",
        "    print(\"The number of wheat in the second half is\", ratio, \"times greater than the first half.\")\n",
        "\n",
        "# Call the function to calculate and print the results\n",
        "calculate_wheat()\n"
      ]
    },
    {
      "cell_type": "markdown",
      "metadata": {
        "id": "XB-_43yLMuVH"
      },
      "source": [
        "PROBLEM 6\n",
        "\n",
        "\n",
        "> Create a new function similar to Problem 2 that returns an ndarray containing the number of wheat squares on an n×m chessboard, one usingnp.append ()and one using broadcast.\n",
        "\n"
      ]
    },
    {
      "cell_type": "code",
      "execution_count": null,
      "metadata": {
        "colab": {
          "base_uri": "https://localhost:8080/"
        },
        "id": "lH1ds3r-PRoF",
        "outputId": "1986ac46-a607-4e6f-c289-cc325bae50dc"
      },
      "outputs": [
        {
          "output_type": "stream",
          "name": "stdout",
          "text": [
            "[[                  1                   2                   4\n",
            "                    8                  16                  32\n",
            "                   64                 128]\n",
            " [                256                 512                1024\n",
            "                 2048                4096                8192\n",
            "                16384               32768]\n",
            " [              65536              131072              262144\n",
            "               524288             1048576             2097152\n",
            "              4194304             8388608]\n",
            " [           16777216            33554432            67108864\n",
            "            134217728           268435456           536870912\n",
            "           1073741824          2147483648]\n",
            " [         4294967296          8589934592         17179869184\n",
            "          34359738368         68719476736        137438953472\n",
            "         274877906944        549755813888]\n",
            " [      1099511627776       2199023255552       4398046511104\n",
            "        8796093022208      17592186044416      35184372088832\n",
            "       70368744177664     140737488355328]\n",
            " [    281474976710656     562949953421312    1125899906842624\n",
            "     2251799813685248    4503599627370496    9007199254740992\n",
            "    18014398509481984   36028797018963968]\n",
            " [  72057594037927936  144115188075855872  288230376151711744\n",
            "   576460752303423488 1152921504606846976 2305843009213693952\n",
            "  4611686018427387904 9223372036854775808]]\n"
          ]
        }
      ],
      "source": [
        "import numpy as np\n",
        "\n",
        "\n",
        "\n",
        "def count_wheat_append(n, m):\n",
        "    wheat_board = n * m\n",
        "    result_board = np.array([1]).astype(np.uint64)\n",
        "\n",
        "    for i in range(wheat_board-1):\n",
        "      result_board = np.append(result_board, 2*result_board[-1])\n",
        "\n",
        "    return result_board.reshape(n,m).astype(np.uint64)\n",
        "\n",
        "\n",
        "\n",
        "\n",
        "wheat_board_append = count_wheat_append(8, 8)\n",
        "print(wheat_board_append)\n"
      ]
    },
    {
      "cell_type": "markdown",
      "metadata": {
        "id": "d9Z69akaQ9Ku"
      },
      "source": [
        "Broadcast Method"
      ]
    },
    {
      "cell_type": "code",
      "execution_count": null,
      "metadata": {
        "colab": {
          "base_uri": "https://localhost:8080/"
        },
        "id": "pg7xNnkWRErL",
        "outputId": "18a60d81-f3ae-4d61-ff9a-6696b5fea97c"
      },
      "outputs": [
        {
          "output_type": "stream",
          "name": "stdout",
          "text": [
            "[                  1                   2                   4\n",
            "                   8                  16                  32\n",
            "                  64                 128                 256\n",
            "                 512                1024                2048\n",
            "                4096                8192               16384\n",
            "               32768               65536              131072\n",
            "              262144              524288             1048576\n",
            "             2097152             4194304             8388608\n",
            "            16777216            33554432            67108864\n",
            "           134217728           268435456           536870912\n",
            "          1073741824          2147483648          4294967296\n",
            "          8589934592         17179869184         34359738368\n",
            "         68719476736        137438953472        274877906944\n",
            "        549755813888       1099511627776       2199023255552\n",
            "       4398046511104       8796093022208      17592186044416\n",
            "      35184372088832      70368744177664     140737488355328\n",
            "     281474976710656     562949953421312    1125899906842624\n",
            "    2251799813685248    4503599627370496    9007199254740992\n",
            "   18014398509481984   36028797018963968   72057594037927936\n",
            "  144115188075855872  288230376151711744  576460752303423488\n",
            " 1152921504606846976 2305843009213693952 4611686018427387904\n",
            " 9223372036854775808]\n"
          ]
        }
      ],
      "source": [
        "import numpy as np\n",
        "\n",
        "def broadcast(n,m):\n",
        "  squares = n*m\n",
        "  indices_of_squares = np.arange(squares)\n",
        "  small_board_ndarray = 2**indices_of_squares\n",
        "  return small_board_ndarray.astype(np.uint64)\n",
        "\n",
        "wheatboard_broadcast = broadcast(8,8)\n",
        "print(wheatboard_broadcast)"
      ]
    },
    {
      "cell_type": "markdown",
      "source": [
        "COMPARING TIME\n",
        "\n",
        "\n",
        "> NP.APPEND\n"
      ],
      "metadata": {
        "id": "te9fm5HQbo0P"
      }
    },
    {
      "cell_type": "code",
      "source": [
        "%%timeit\n",
        "import numpy as np\n",
        "\n",
        "\n",
        "\n",
        "def count_wheat_append(n, m):\n",
        "    wheat_board = n * m\n",
        "    result_board = np.array([1]).astype(np.uint64)\n",
        "\n",
        "    for i in range(wheat_board-1):\n",
        "      result_board = np.append(result_board, 2*result_board[-1])\n",
        "\n",
        "    return result_board.reshape(n,m).astype(np.uint64)\n",
        "\n",
        "\n",
        "\n",
        "\n",
        "wheat_board_append = count_wheat_append(8, 8)\n",
        "print(wheat_board_append)\n",
        "%timeit count_wheat_append(8, 8)"
      ],
      "metadata": {
        "colab": {
          "base_uri": "https://localhost:8080/"
        },
        "id": "KkyNvRn-btDA",
        "outputId": "ac68cd7a-4ca5-44df-df6f-daad187c638e"
      },
      "execution_count": 1,
      "outputs": [
        {
          "output_type": "stream",
          "name": "stdout",
          "text": [
            "[[                  1                   2                   4\n",
            "                    8                  16                  32\n",
            "                   64                 128]\n",
            " [                256                 512                1024\n",
            "                 2048                4096                8192\n",
            "                16384               32768]\n",
            " [              65536              131072              262144\n",
            "               524288             1048576             2097152\n",
            "              4194304             8388608]\n",
            " [           16777216            33554432            67108864\n",
            "            134217728           268435456           536870912\n",
            "           1073741824          2147483648]\n",
            " [         4294967296          8589934592         17179869184\n",
            "          34359738368         68719476736        137438953472\n",
            "         274877906944        549755813888]\n",
            " [      1099511627776       2199023255552       4398046511104\n",
            "        8796093022208      17592186044416      35184372088832\n",
            "       70368744177664     140737488355328]\n",
            " [    281474976710656     562949953421312    1125899906842624\n",
            "     2251799813685248    4503599627370496    9007199254740992\n",
            "    18014398509481984   36028797018963968]\n",
            " [  72057594037927936  144115188075855872  288230376151711744\n",
            "   576460752303423488 1152921504606846976 2305843009213693952\n",
            "  4611686018427387904 9223372036854775808]]\n",
            "360 µs ± 19.7 µs per loop (mean ± std. dev. of 7 runs, 1000 loops each)\n",
            "[[                  1                   2                   4\n",
            "                    8                  16                  32\n",
            "                   64                 128]\n",
            " [                256                 512                1024\n",
            "                 2048                4096                8192\n",
            "                16384               32768]\n",
            " [              65536              131072              262144\n",
            "               524288             1048576             2097152\n",
            "              4194304             8388608]\n",
            " [           16777216            33554432            67108864\n",
            "            134217728           268435456           536870912\n",
            "           1073741824          2147483648]\n",
            " [         4294967296          8589934592         17179869184\n",
            "          34359738368         68719476736        137438953472\n",
            "         274877906944        549755813888]\n",
            " [      1099511627776       2199023255552       4398046511104\n",
            "        8796093022208      17592186044416      35184372088832\n",
            "       70368744177664     140737488355328]\n",
            " [    281474976710656     562949953421312    1125899906842624\n",
            "     2251799813685248    4503599627370496    9007199254740992\n",
            "    18014398509481984   36028797018963968]\n",
            " [  72057594037927936  144115188075855872  288230376151711744\n",
            "   576460752303423488 1152921504606846976 2305843009213693952\n",
            "  4611686018427387904 9223372036854775808]]\n",
            "718 µs ± 58.9 µs per loop (mean ± std. dev. of 7 runs, 1000 loops each)\n",
            "[[                  1                   2                   4\n",
            "                    8                  16                  32\n",
            "                   64                 128]\n",
            " [                256                 512                1024\n",
            "                 2048                4096                8192\n",
            "                16384               32768]\n",
            " [              65536              131072              262144\n",
            "               524288             1048576             2097152\n",
            "              4194304             8388608]\n",
            " [           16777216            33554432            67108864\n",
            "            134217728           268435456           536870912\n",
            "           1073741824          2147483648]\n",
            " [         4294967296          8589934592         17179869184\n",
            "          34359738368         68719476736        137438953472\n",
            "         274877906944        549755813888]\n",
            " [      1099511627776       2199023255552       4398046511104\n",
            "        8796093022208      17592186044416      35184372088832\n",
            "       70368744177664     140737488355328]\n",
            " [    281474976710656     562949953421312    1125899906842624\n",
            "     2251799813685248    4503599627370496    9007199254740992\n",
            "    18014398509481984   36028797018963968]\n",
            " [  72057594037927936  144115188075855872  288230376151711744\n",
            "   576460752303423488 1152921504606846976 2305843009213693952\n",
            "  4611686018427387904 9223372036854775808]]\n",
            "1.15 ms ± 211 µs per loop (mean ± std. dev. of 7 runs, 1000 loops each)\n",
            "[[                  1                   2                   4\n",
            "                    8                  16                  32\n",
            "                   64                 128]\n",
            " [                256                 512                1024\n",
            "                 2048                4096                8192\n",
            "                16384               32768]\n",
            " [              65536              131072              262144\n",
            "               524288             1048576             2097152\n",
            "              4194304             8388608]\n",
            " [           16777216            33554432            67108864\n",
            "            134217728           268435456           536870912\n",
            "           1073741824          2147483648]\n",
            " [         4294967296          8589934592         17179869184\n",
            "          34359738368         68719476736        137438953472\n",
            "         274877906944        549755813888]\n",
            " [      1099511627776       2199023255552       4398046511104\n",
            "        8796093022208      17592186044416      35184372088832\n",
            "       70368744177664     140737488355328]\n",
            " [    281474976710656     562949953421312    1125899906842624\n",
            "     2251799813685248    4503599627370496    9007199254740992\n",
            "    18014398509481984   36028797018963968]\n",
            " [  72057594037927936  144115188075855872  288230376151711744\n",
            "   576460752303423488 1152921504606846976 2305843009213693952\n",
            "  4611686018427387904 9223372036854775808]]\n",
            "The slowest run took 5.54 times longer than the fastest. This could mean that an intermediate result is being cached.\n",
            "869 µs ± 618 µs per loop (mean ± std. dev. of 7 runs, 1000 loops each)\n",
            "[[                  1                   2                   4\n",
            "                    8                  16                  32\n",
            "                   64                 128]\n",
            " [                256                 512                1024\n",
            "                 2048                4096                8192\n",
            "                16384               32768]\n",
            " [              65536              131072              262144\n",
            "               524288             1048576             2097152\n",
            "              4194304             8388608]\n",
            " [           16777216            33554432            67108864\n",
            "            134217728           268435456           536870912\n",
            "           1073741824          2147483648]\n",
            " [         4294967296          8589934592         17179869184\n",
            "          34359738368         68719476736        137438953472\n",
            "         274877906944        549755813888]\n",
            " [      1099511627776       2199023255552       4398046511104\n",
            "        8796093022208      17592186044416      35184372088832\n",
            "       70368744177664     140737488355328]\n",
            " [    281474976710656     562949953421312    1125899906842624\n",
            "     2251799813685248    4503599627370496    9007199254740992\n",
            "    18014398509481984   36028797018963968]\n",
            " [  72057594037927936  144115188075855872  288230376151711744\n",
            "   576460752303423488 1152921504606846976 2305843009213693952\n",
            "  4611686018427387904 9223372036854775808]]\n",
            "385 µs ± 37 µs per loop (mean ± std. dev. of 7 runs, 1000 loops each)\n",
            "[[                  1                   2                   4\n",
            "                    8                  16                  32\n",
            "                   64                 128]\n",
            " [                256                 512                1024\n",
            "                 2048                4096                8192\n",
            "                16384               32768]\n",
            " [              65536              131072              262144\n",
            "               524288             1048576             2097152\n",
            "              4194304             8388608]\n",
            " [           16777216            33554432            67108864\n",
            "            134217728           268435456           536870912\n",
            "           1073741824          2147483648]\n",
            " [         4294967296          8589934592         17179869184\n",
            "          34359738368         68719476736        137438953472\n",
            "         274877906944        549755813888]\n",
            " [      1099511627776       2199023255552       4398046511104\n",
            "        8796093022208      17592186044416      35184372088832\n",
            "       70368744177664     140737488355328]\n",
            " [    281474976710656     562949953421312    1125899906842624\n",
            "     2251799813685248    4503599627370496    9007199254740992\n",
            "    18014398509481984   36028797018963968]\n",
            " [  72057594037927936  144115188075855872  288230376151711744\n",
            "   576460752303423488 1152921504606846976 2305843009213693952\n",
            "  4611686018427387904 9223372036854775808]]\n",
            "361 µs ± 10.2 µs per loop (mean ± std. dev. of 7 runs, 1000 loops each)\n",
            "[[                  1                   2                   4\n",
            "                    8                  16                  32\n",
            "                   64                 128]\n",
            " [                256                 512                1024\n",
            "                 2048                4096                8192\n",
            "                16384               32768]\n",
            " [              65536              131072              262144\n",
            "               524288             1048576             2097152\n",
            "              4194304             8388608]\n",
            " [           16777216            33554432            67108864\n",
            "            134217728           268435456           536870912\n",
            "           1073741824          2147483648]\n",
            " [         4294967296          8589934592         17179869184\n",
            "          34359738368         68719476736        137438953472\n",
            "         274877906944        549755813888]\n",
            " [      1099511627776       2199023255552       4398046511104\n",
            "        8796093022208      17592186044416      35184372088832\n",
            "       70368744177664     140737488355328]\n",
            " [    281474976710656     562949953421312    1125899906842624\n",
            "     2251799813685248    4503599627370496    9007199254740992\n",
            "    18014398509481984   36028797018963968]\n",
            " [  72057594037927936  144115188075855872  288230376151711744\n",
            "   576460752303423488 1152921504606846976 2305843009213693952\n",
            "  4611686018427387904 9223372036854775808]]\n",
            "584 µs ± 121 µs per loop (mean ± std. dev. of 7 runs, 1000 loops each)\n",
            "[[                  1                   2                   4\n",
            "                    8                  16                  32\n",
            "                   64                 128]\n",
            " [                256                 512                1024\n",
            "                 2048                4096                8192\n",
            "                16384               32768]\n",
            " [              65536              131072              262144\n",
            "               524288             1048576             2097152\n",
            "              4194304             8388608]\n",
            " [           16777216            33554432            67108864\n",
            "            134217728           268435456           536870912\n",
            "           1073741824          2147483648]\n",
            " [         4294967296          8589934592         17179869184\n",
            "          34359738368         68719476736        137438953472\n",
            "         274877906944        549755813888]\n",
            " [      1099511627776       2199023255552       4398046511104\n",
            "        8796093022208      17592186044416      35184372088832\n",
            "       70368744177664     140737488355328]\n",
            " [    281474976710656     562949953421312    1125899906842624\n",
            "     2251799813685248    4503599627370496    9007199254740992\n",
            "    18014398509481984   36028797018963968]\n",
            " [  72057594037927936  144115188075855872  288230376151711744\n",
            "   576460752303423488 1152921504606846976 2305843009213693952\n",
            "  4611686018427387904 9223372036854775808]]\n",
            "411 µs ± 63.1 µs per loop (mean ± std. dev. of 7 runs, 1000 loops each)\n",
            "5.31 s ± 2.32 s per loop (mean ± std. dev. of 7 runs, 1 loop each)\n"
          ]
        }
      ]
    },
    {
      "cell_type": "markdown",
      "source": [
        "VS\n",
        "\n",
        "\n",
        ">BROADCAST TIMING\n",
        "\n",
        "\n",
        "\n"
      ],
      "metadata": {
        "id": "nIciyNa6cMaV"
      }
    },
    {
      "cell_type": "code",
      "source": [
        "import numpy as np\n",
        "\n",
        "def broadcast(n,m):\n",
        "  squares = n*m\n",
        "  indices_of_squares = np.arange(squares)\n",
        "  small_board_ndarray = 2**indices_of_squares\n",
        "  return small_board_ndarray.astype(np.uint64)\n",
        "\n",
        "wheatboard_broadcast = broadcast(8,8)\n",
        "print(wheatboard_broadcast)\n",
        "%timeit broadcast(8,8)"
      ],
      "metadata": {
        "colab": {
          "base_uri": "https://localhost:8080/"
        },
        "id": "iSS-u34WcWAx",
        "outputId": "dc16cc90-8f7f-444f-8b16-4d61dca05d8f"
      },
      "execution_count": 2,
      "outputs": [
        {
          "output_type": "stream",
          "name": "stdout",
          "text": [
            "[                  1                   2                   4\n",
            "                   8                  16                  32\n",
            "                  64                 128                 256\n",
            "                 512                1024                2048\n",
            "                4096                8192               16384\n",
            "               32768               65536              131072\n",
            "              262144              524288             1048576\n",
            "             2097152             4194304             8388608\n",
            "            16777216            33554432            67108864\n",
            "           134217728           268435456           536870912\n",
            "          1073741824          2147483648          4294967296\n",
            "          8589934592         17179869184         34359738368\n",
            "         68719476736        137438953472        274877906944\n",
            "        549755813888       1099511627776       2199023255552\n",
            "       4398046511104       8796093022208      17592186044416\n",
            "      35184372088832      70368744177664     140737488355328\n",
            "     281474976710656     562949953421312    1125899906842624\n",
            "    2251799813685248    4503599627370496    9007199254740992\n",
            "   18014398509481984   36028797018963968   72057594037927936\n",
            "  144115188075855872  288230376151711744  576460752303423488\n",
            " 1152921504606846976 2305843009213693952 4611686018427387904\n",
            " 9223372036854775808]\n",
            "3.78 µs ± 103 ns per loop (mean ± std. dev. of 7 runs, 100000 loops each)\n"
          ]
        }
      ]
    }
  ],
  "metadata": {
    "colab": {
      "provenance": [],
      "authorship_tag": "ABX9TyPJ7TzysHrYAYTLbo4XcQfg",
      "include_colab_link": true
    },
    "kernelspec": {
      "display_name": "Python 3",
      "name": "python3"
    },
    "language_info": {
      "name": "python"
    }
  },
  "nbformat": 4,
  "nbformat_minor": 0
}