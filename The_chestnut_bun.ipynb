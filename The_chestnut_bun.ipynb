{
  "nbformat": 4,
  "nbformat_minor": 0,
  "metadata": {
    "colab": {
      "provenance": [],
      "authorship_tag": "ABX9TyPS1hWz5l9rWBKsD6IZYXFd",
      "include_colab_link": true
    },
    "kernelspec": {
      "name": "python3",
      "display_name": "Python 3"
    },
    "language_info": {
      "name": "python"
    }
  },
  "cells": [
    {
      "cell_type": "markdown",
      "metadata": {
        "id": "view-in-github",
        "colab_type": "text"
      },
      "source": [
        "<a href=\"https://colab.research.google.com/github/Ohellay/arbitrary/blob/main/The_chestnut_bun.ipynb\" target=\"_parent\"><img src=\"https://colab.research.google.com/assets/colab-badge.svg\" alt=\"Open In Colab\"/></a>"
      ]
    },
    {
      "cell_type": "markdown",
      "source": [
        " PROBLEM 1\n",
        "\n",
        "\n",
        ">The chestnut bun problem\n",
        "\n",
        ">  \"Byevine\" is a medicine, and if you sprinkle it on it, the object will double every 5 minutes. I increase the number of chestnut buns in the process, but since I could not eat it, I used a rocket and threw it into space.\n"
      ],
      "metadata": {
        "id": "fpC1yh3uLHmt"
      }
    },
    {
      "cell_type": "code",
      "execution_count": 22,
      "metadata": {
        "colab": {
          "base_uri": "https://localhost:8080/",
          "height": 535
        },
        "id": "AppbWxsEJ24d",
        "outputId": "7fb60ef3-384e-41ef-c8bd-9d27b410ad5c"
      },
      "outputs": [
        {
          "output_type": "stream",
          "name": "stdout",
          "text": [
            "The total time need to fill the solar system is 755  minutes\n"
          ]
        },
        {
          "output_type": "display_data",
          "data": {
            "text/plain": [
              "<Figure size 1000x600 with 1 Axes>"
            ],
            "image/png": "[encoded data removed]"
          },
          "metadata": {}
        }
      ],
      "source": [
        "import matplotlib.pyplot as plt\n",
        "import math\n",
        "\n",
        "\n",
        "# from https://www.fpl.fs.usda.gov/documnts/usda/amwood/230chest.pdf\n",
        "# chestnut bun diameter = 1 inch = 0.0254 in meters\n",
        "\n",
        "# Constants\n",
        "pi = math.pi\n",
        "chestnut_bun_diameter = 0.0254 # in meter(1 inch)\n",
        "chestnut_bun_radius = chestnut_bun_diameter / 2\n",
        "# Formula to calculate the Solar Space volume =  V = 4/3 π r3.\n",
        "chestnut_bun_volume = 4/3 * pi * (chestnut_bun_radius ** 3)  #volume of the bun in space\n",
        "\n",
        "\n",
        "# Solar Space  estimated volume\n",
        "solar_system_diameter = 28746000000000\n",
        "solar_system_radius = solar_system_diameter / 2\n",
        "# Formula to calculate the Solar Space volume =  V = 4/3 π r3.\n",
        "solar_system_volume  = 4/3 *  pi * (solar_system_radius ** 3) # square meters (just an estimate)\n",
        "\n",
        "volume = []\n",
        "minutes = []\n",
        "\n",
        "# Function to calculate how  long will it take to cover the solar system with chestnut buns\n",
        "def calculate_doubling_times(initial_volume, end_volume):\n",
        "  doubling_time = 0\n",
        "\n",
        "  while (initial_volume < end_volume):\n",
        "    initial_volume *= 2\n",
        "    volume.append(initial_volume)\n",
        "    doubling_time += 5\n",
        "    minutes.append(doubling_time)\n",
        "  return doubling_time\n",
        "\n",
        "\n",
        "\n",
        "\n",
        "time_to_cover_solar_system= calculate_doubling_times(chestnut_bun_volume,solar_system_volume )\n",
        "\n",
        "print(f\"The total time need to fill the solar system is {time_to_cover_solar_system}  minutes\")\n",
        "\n",
        "#Visualizing the Minute after add 5 minute and its volume\n",
        "plt.figure(figsize=(10,6))\n",
        "plt.plot(minutes, volume)\n",
        "plt.xlabel(\"Time (minutes)\")\n",
        "plt.ylabel(\"Volume\")\n",
        "plt.title(\"Chestnut Buns increase in Space \")\n",
        "plt.show()\n"
      ]
    },
    {
      "cell_type": "markdown",
      "source": [
        "PROBLEM 2\n",
        "\n",
        "\n",
        "> Create a generic program that can be applied to other situations, such as the time it takes for the Tokyo Dome to fill up when you sprinkle a ball with Byvine. Also, please create a notebook that is easy to understand, e.g., display a graph.\n",
        "\n"
      ],
      "metadata": {
        "id": "ifxB8QI1Bw3d"
      }
    },
    {
      "cell_type": "code",
      "source": [
        "import math\n",
        "import matplotlib.pyplot as plt\n",
        "\n",
        "pi = math.pi\n",
        "# Using the Cricket ball has an example\n",
        "#The standard radius of a cricket ball is around 2.8 centimeters (or 1.1 inches). which is 5.6 in diameter\n",
        "\n",
        "ball_diameter = 5.6 # in centimeter\n",
        "ball_radius = 5.6 /2 /100 #(in meter)\n",
        "ball_volume = 4/3 * pi * (ball_radius)\n",
        "\n",
        "\n",
        "volume_tokyo_dome = 1240000 # (in m3)\n",
        "\n",
        "time_to_fill_tokyo_dome = calculate_doubling_times(ball_volume, volume_tokyo_dome)\n",
        "\n",
        "print(f\"It will take the ball {time_to_fill_tokyo_dome} minute after Byevine is added\")"
      ],
      "metadata": {
        "colab": {
          "base_uri": "https://localhost:8080/"
        },
        "id": "UDe1_kJvBzL2",
        "outputId": "d3afb0b5-f560-4894-f980-4f363c155457"
      },
      "execution_count": 21,
      "outputs": [
        {
          "output_type": "stream",
          "name": "stdout",
          "text": [
            "It will take the ball 120 minute after Byevine is added\n"
          ]
        }
      ]
    }
  ]
}